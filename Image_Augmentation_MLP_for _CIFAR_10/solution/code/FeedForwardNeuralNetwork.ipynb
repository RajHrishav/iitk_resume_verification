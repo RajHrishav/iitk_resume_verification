{
 "cells": [
  {
   "cell_type": "code",
   "execution_count": null,
   "id": "01e33e5e",
   "metadata": {},
   "outputs": [],
   "source": [
    "W1 =  numpy.random.randn(64,512).astype(numpy.float32)\n",
    "b1 =  numpy.random.randn(64,1).astype(numpy.float32)\n",
    "# Hidden layer 2\n",
    "W2 =  numpy.random.randn(64,64).astype(numpy.float32)\n",
    "b2 =  numpy.random.randn(64,1).astype(numpy.float32)\n",
    "# Output layer\n",
    "WL = numpy.random.randn(10,64).astype(numpy.float32)\n",
    "bL = numpy.random.randn(10,1).astype(numpy.float32)\n",
    "\n",
    "\n",
    "def gradient_decent():\n",
    "    t=0\n",
    "    max_iterations=1000\n",
    "    while t++ < max_iterations:\n",
    "        theta = forward_propogation(theta)\n",
    "        delta_theta = backword_propogation(theta)\n",
    "        theta = theta - n*delta_theta "
   ]
  },
  {
   "cell_type": "code",
   "execution_count": null,
   "id": "7765bf76",
   "metadata": {},
   "outputs": [],
   "source": [
    "def forward_propogation():\n",
    "    \n",
    "        "
   ]
  },
  {
   "cell_type": "code",
   "execution_count": 3,
   "id": "b2781a5b",
   "metadata": {},
   "outputs": [
    {
     "name": "stdout",
     "output_type": "stream",
     "text": [
      "1\n",
      "2\n"
     ]
    }
   ],
   "source": [
    "for i in range(1,3):\n",
    "    print(i)"
   ]
  }
 ],
 "metadata": {
  "kernelspec": {
   "display_name": "Python 3 (ipykernel)",
   "language": "python",
   "name": "python3"
  },
  "language_info": {
   "codemirror_mode": {
    "name": "ipython",
    "version": 3
   },
   "file_extension": ".py",
   "mimetype": "text/x-python",
   "name": "python",
   "nbconvert_exporter": "python",
   "pygments_lexer": "ipython3",
   "version": "3.7.16"
  }
 },
 "nbformat": 4,
 "nbformat_minor": 5
}
